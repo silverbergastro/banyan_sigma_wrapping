{
 "cells": [
  {
   "cell_type": "code",
   "execution_count": 5,
   "metadata": {},
   "outputs": [],
   "source": [
    "import pandas as pd\n",
    "import numpy as np\n",
    "from banyan_sigma_wrapper import banyan_sigma_wrapper\n",
    "import time"
   ]
  },
  {
   "cell_type": "code",
   "execution_count": 7,
   "metadata": {},
   "outputs": [
    {
     "name": "stdout",
     "output_type": "stream",
     "text": [
      "   118TAU  ABDMG  BPMG   CAR  CARN  CBER  COL  CRA  EPSC  ETAC  ...    TAU  \\\n",
      "0     0.0    0.0   0.0  95.1   0.0   0.0  0.0  0.0   0.0   0.0  ...    0.0   \n",
      "\n",
      "   THA  THOR  TWA  UCL  UCRA  UMA  USCO  XFOR  FIELD  \n",
      "0  0.0   0.0  0.0  0.0   0.0  0.0   0.0   0.0    4.8  \n",
      "\n",
      "[1 rows x 28 columns]\n",
      "   118TAU  ABDMG  BPMG   CAR  CARN  CBER   COL   CRA  EPSC  ETAC  ...     TAU  \\\n",
      "0    22.7   22.7  22.7  22.7  22.7  22.7  22.7  22.7  22.7  22.7  ...    22.7   \n",
      "\n",
      "    THA  THOR   TWA   UCL  UCRA   UMA  USCO  XFOR  FIELD  \n",
      "0  22.7  22.7  22.7  22.7  22.7  22.7  22.7  22.7   22.7  \n",
      "\n",
      "[1 rows x 28 columns]\n",
      "Total runtime: 0.9492707252502441\n"
     ]
    },
    {
     "name": "stderr",
     "output_type": "stream",
     "text": [
      "C:\\Users\\Steven Silverberg\\Anaconda2\\envs\\py36\\lib\\site-packages\\pandas\\core\\indexing.py:179: SettingWithCopyWarning: \n",
      "A value is trying to be set on a copy of a slice from a DataFrame\n",
      "\n",
      "See the caveats in the documentation: http://pandas.pydata.org/pandas-docs/stable/indexing.html#indexing-view-versus-copy\n",
      "  self._setitem_with_indexer(indexer, value)\n",
      "C:\\Users\\Steven Silverberg\\Downloads\\banyan_sigma-master\\banyan_sigma-master\\banyan_sigma_wrapper.py:27: SettingWithCopyWarning: \n",
      "A value is trying to be set on a copy of a slice from a DataFrame\n",
      "\n",
      "See the caveats in the documentation: http://pandas.pydata.org/pandas-docs/stable/indexing.html#indexing-view-versus-copy\n",
      "  output_all.loc[0] = probs_formatted\n"
     ]
    }
   ],
   "source": [
    "start_time = time.time()\n",
    "banyan_sigma_wrapper('AWI0005x3s',None,122.09242555493,-64.73257243033,-11.539,25.615,0.118,0.100,22.7,0.5,9.8599,0.0551)\n",
    "end_time = time.time()\n",
    "\n",
    "print('Total runtime:',end_time - start_time)"
   ]
  }
 ],
 "metadata": {
  "kernelspec": {
   "display_name": "Python 3",
   "language": "python",
   "name": "python3"
  },
  "language_info": {
   "codemirror_mode": {
    "name": "ipython",
    "version": 3
   },
   "file_extension": ".py",
   "mimetype": "text/x-python",
   "name": "python",
   "nbconvert_exporter": "python",
   "pygments_lexer": "ipython3",
   "version": "3.6.3"
  }
 },
 "nbformat": 4,
 "nbformat_minor": 2
}
